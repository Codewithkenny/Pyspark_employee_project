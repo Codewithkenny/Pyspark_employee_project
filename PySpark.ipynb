{
 "cells": [
  {
   "cell_type": "code",
   "execution_count": 75,
   "id": "7075f368-8a56-4ab7-b7b4-29057da45841",
   "metadata": {},
   "outputs": [
    {
     "name": "stdout",
     "output_type": "stream",
     "text": [
      "+-----------+-------------+--------------------+---+------+---------+----------+\n",
      "|employee_id|department_id|           full_name|age|gender|   salary| hire_date|\n",
      "+-----------+-------------+--------------------+---+------+---------+----------+\n",
      "|          1|           47|   Ellswerth Barroux| 95|  Male|$95322.23|2024-09-26|\n",
      "|          2|           16| Basilius Ballintime| 95|  Male|$39736.02|2024-12-12|\n",
      "|          3|           81|      Mandi Signoret| 65|Female|$67739.11|2025-04-18|\n",
      "|          4|           38|       Erna Bavister| 30|Female|$51975.90|2025-03-09|\n",
      "|          5|           90|    Rennie Hazeldene| 35|Female|$90769.57|2025-02-17|\n",
      "|          6|           61|   Kaitlin Lidbetter| 61|Female|$76702.57|2024-09-12|\n",
      "|          7|           16|        Becki Thirst| 75|Female|$95677.00|2025-04-03|\n",
      "|          8|           67|   Mellisent Crosher| 97|Female|$47782.91|2024-11-07|\n",
      "|          9|           46|    Cecilia Conville| 86|Female|$35129.42|2025-01-30|\n",
      "|         10|           55|      Inglis Broader|  7|  Male|$69409.96|2025-03-30|\n",
      "|         11|            6|       Adrian Yeulet| 66|Female|$42991.04|2024-09-17|\n",
      "|         12|           27|      Dory Reucastle| 94|  Male|$83035.39|2024-09-17|\n",
      "|         13|           22|         Zea Faulkes| 48|Female|$43539.33|2024-08-21|\n",
      "|         14|           98|Stephannie Dudbridge|  9|Female|$68203.79|2025-04-11|\n",
      "|         15|           87|      Linet Upchurch| 13|Female|$56520.28|2025-02-20|\n",
      "|         16|           53|       Andrea Osorio| 59|Female|$75712.02|2025-07-22|\n",
      "|         17|           94|    Vinita Mcettrick| 97|Female|$75785.36|2025-07-25|\n",
      "|         18|           54|         Sonny Leddy|  8|  Male|$78601.67|2025-07-24|\n",
      "|         19|           90|         Inga Lambal| 42|Female|$97975.28|2025-03-17|\n",
      "|         20|           27|        Tim Tuckwell| 47|  Male|$40201.55|2025-03-04|\n",
      "+-----------+-------------+--------------------+---+------+---------+----------+\n",
      "only showing top 20 rows\n",
      "\n",
      "root\n",
      " |-- employee_id: integer (nullable = true)\n",
      " |-- department_id: integer (nullable = true)\n",
      " |-- full_name: string (nullable = true)\n",
      " |-- age: integer (nullable = true)\n",
      " |-- gender: string (nullable = true)\n",
      " |-- salary: string (nullable = true)\n",
      " |-- hire_date: date (nullable = true)\n",
      "\n"
     ]
    }
   ],
   "source": [
    "from pyspark.sql import SparkSession\n",
    "from pyspark.sql.types import (\n",
    "    StructType, StructField,\n",
    "    IntegerType, StringType, DateType\n",
    ")\n",
    "from pyspark.sql.functions import col, regexp_replace\n",
    "\n",
    "spark = (SparkSession\n",
    "         .builder\n",
    "         .appName(\"EmployeeData\")\n",
    "         .master(\"local[*]\")\n",
    "         .getOrCreate()\n",
    ")\n",
    "\n",
    "schema = StructType([\n",
    "    StructField(\"employee_id\", IntegerType(), True),\n",
    "    StructField(\"department_id\", IntegerType(), True),\n",
    "    StructField(\"name\", StringType(), True),\n",
    "    StructField(\"age\", IntegerType(), True),\n",
    "    StructField(\"gender\", StringType(), True),\n",
    "    StructField(\"salary\", IntegerType(), True),\n",
    "    StructField(\"hire_date\", DateType(), True)\n",
    "])\n",
    "\n",
    "df = spark.read.csv(\n",
    "    \"/home/poju/Downloads/mock_emp_data.csv\", header=True, inferSchema=True)\n",
    "df.show()\n",
    "df.printSchema()"
   ]
  },
  {
   "cell_type": "code",
   "execution_count": 69,
   "id": "42ab8d29-64c0-4397-8ca3-01f28c869d51",
   "metadata": {},
   "outputs": [],
   "source": [
    "df_final2 = df.filter(col(\"salary\") > 50000)"
   ]
  },
  {
   "cell_type": "code",
   "execution_count": 91,
   "id": "56078d7c-13bc-46a0-b89e-1aea7b97e81d",
   "metadata": {
    "scrolled": true
   },
   "outputs": [
    {
     "ename": "IndentationError",
     "evalue": "unexpected indent (1628170541.py, line 5)",
     "output_type": "error",
     "traceback": [
      "\u001b[0;36m  Cell \u001b[0;32mIn[91], line 5\u001b[0;36m\u001b[0m\n\u001b[0;31m    .filter(col(\"salary\") > 50000)\u001b[0m\n\u001b[0m    ^\u001b[0m\n\u001b[0;31mIndentationError\u001b[0m\u001b[0;31m:\u001b[0m unexpected indent\n"
     ]
    }
   ],
   "source": [
    "df_clean = df.withColumn(\n",
    "    \"salary\",\n",
    "    regexp_replace(col(\"salary\"), \"\\\\$\", \"\").cast(\"int\")\n",
    ")\n",
    "    .filter(col(\"salary\") > 50000)\n",
    ")\n"
   ]
  },
  {
   "cell_type": "code",
   "execution_count": 87,
   "id": "618396b5-6e1c-4dbd-b5ad-9317906ef19b",
   "metadata": {},
   "outputs": [
    {
     "name": "stdout",
     "output_type": "stream",
     "text": [
      "+-----------+-------------+--------------------+---+------+------+----------+\n",
      "|employee_id|department_id|           full_name|age|gender|salary| hire_date|\n",
      "+-----------+-------------+--------------------+---+------+------+----------+\n",
      "|          1|           47|   Ellswerth Barroux| 95|  Male| 95322|2024-09-26|\n",
      "|          2|           16| Basilius Ballintime| 95|  Male| 39736|2024-12-12|\n",
      "|          3|           81|      Mandi Signoret| 65|Female| 67739|2025-04-18|\n",
      "|          4|           38|       Erna Bavister| 30|Female| 51975|2025-03-09|\n",
      "|          5|           90|    Rennie Hazeldene| 35|Female| 90769|2025-02-17|\n",
      "|          6|           61|   Kaitlin Lidbetter| 61|Female| 76702|2024-09-12|\n",
      "|          7|           16|        Becki Thirst| 75|Female| 95677|2025-04-03|\n",
      "|          8|           67|   Mellisent Crosher| 97|Female| 47782|2024-11-07|\n",
      "|          9|           46|    Cecilia Conville| 86|Female| 35129|2025-01-30|\n",
      "|         10|           55|      Inglis Broader|  7|  Male| 69409|2025-03-30|\n",
      "|         11|            6|       Adrian Yeulet| 66|Female| 42991|2024-09-17|\n",
      "|         12|           27|      Dory Reucastle| 94|  Male| 83035|2024-09-17|\n",
      "|         13|           22|         Zea Faulkes| 48|Female| 43539|2024-08-21|\n",
      "|         14|           98|Stephannie Dudbridge|  9|Female| 68203|2025-04-11|\n",
      "|         15|           87|      Linet Upchurch| 13|Female| 56520|2025-02-20|\n",
      "|         16|           53|       Andrea Osorio| 59|Female| 75712|2025-07-22|\n",
      "|         17|           94|    Vinita Mcettrick| 97|Female| 75785|2025-07-25|\n",
      "|         18|           54|         Sonny Leddy|  8|  Male| 78601|2025-07-24|\n",
      "|         19|           90|         Inga Lambal| 42|Female| 97975|2025-03-17|\n",
      "|         20|           27|        Tim Tuckwell| 47|  Male| 40201|2025-03-04|\n",
      "+-----------+-------------+--------------------+---+------+------+----------+\n",
      "only showing top 20 rows\n",
      "\n"
     ]
    }
   ],
   "source": [
    "df_clean.show()"
   ]
  },
  {
   "cell_type": "code",
   "execution_count": 101,
   "id": "c7dbd410-f662-488c-a25a-a5b5e671ab3c",
   "metadata": {},
   "outputs": [],
   "source": [
    "df_clean = (\n",
    "    df.withColumn(\n",
    "    \"salary\",\n",
    "    regexp_replace(col(\"salary\"), \"\\\\$\", \"\").cast(\"int\")\n",
    "    )\n",
    "    .filter(col(\"salary\") > 50000)\n",
    ")\n"
   ]
  },
  {
   "cell_type": "code",
   "execution_count": 103,
   "id": "9e791a21-0903-4464-a8ed-14b276ca689f",
   "metadata": {},
   "outputs": [
    {
     "name": "stdout",
     "output_type": "stream",
     "text": [
      "+-----------+-------------+--------------------+---+------+------+----------+\n",
      "|employee_id|department_id|           full_name|age|gender|salary| hire_date|\n",
      "+-----------+-------------+--------------------+---+------+------+----------+\n",
      "|          1|           47|   Ellswerth Barroux| 95|  Male| 95322|2024-09-26|\n",
      "|          3|           81|      Mandi Signoret| 65|Female| 67739|2025-04-18|\n",
      "|          4|           38|       Erna Bavister| 30|Female| 51975|2025-03-09|\n",
      "|          5|           90|    Rennie Hazeldene| 35|Female| 90769|2025-02-17|\n",
      "|          6|           61|   Kaitlin Lidbetter| 61|Female| 76702|2024-09-12|\n",
      "|          7|           16|        Becki Thirst| 75|Female| 95677|2025-04-03|\n",
      "|         10|           55|      Inglis Broader|  7|  Male| 69409|2025-03-30|\n",
      "|         12|           27|      Dory Reucastle| 94|  Male| 83035|2024-09-17|\n",
      "|         14|           98|Stephannie Dudbridge|  9|Female| 68203|2025-04-11|\n",
      "|         15|           87|      Linet Upchurch| 13|Female| 56520|2025-02-20|\n",
      "|         16|           53|       Andrea Osorio| 59|Female| 75712|2025-07-22|\n",
      "|         17|           94|    Vinita Mcettrick| 97|Female| 75785|2025-07-25|\n",
      "|         18|           54|         Sonny Leddy|  8|  Male| 78601|2025-07-24|\n",
      "|         19|           90|         Inga Lambal| 42|Female| 97975|2025-03-17|\n",
      "|         21|           25|    Priscella Jubert|  9|Female| 78080|2025-07-03|\n",
      "|         23|           57|       Phillip Raise| 91|  Male| 89241|2025-08-07|\n",
      "|         24|           95|  Cindelyn MacGiffin| 46|Female| 50134|2025-06-02|\n",
      "|         25|           27|      Felipe Brodeur| 98|  Male| 77060|2025-06-18|\n",
      "|         26|            6|     Parnell Pedroli| 17|  Male| 99227|2024-10-16|\n",
      "|         27|           33|    Rosamond Donwell|  1|Female| 92630|2024-09-15|\n",
      "+-----------+-------------+--------------------+---+------+------+----------+\n",
      "only showing top 20 rows\n",
      "\n"
     ]
    }
   ],
   "source": [
    "df_clean.show()"
   ]
  },
  {
   "cell_type": "code",
   "execution_count": 107,
   "id": "5e93f733-22bc-4446-a354-8d021f24f618",
   "metadata": {},
   "outputs": [
    {
     "data": {
      "text/plain": [
       "1"
      ]
     },
     "execution_count": 107,
     "metadata": {},
     "output_type": "execute_result"
    }
   ],
   "source": [
    "df.rdd.getNumPartitions()"
   ]
  },
  {
   "cell_type": "code",
   "execution_count": 109,
   "id": "43fc2628-cd5c-4d7d-80f4-4444f68bae69",
   "metadata": {},
   "outputs": [
    {
     "name": "stderr",
     "output_type": "stream",
     "text": [
      "                                                                                \r"
     ]
    }
   ],
   "source": [
    "df_clean.write.csv( \"/home/poju/Downloads/emp_output.csv\",  \n",
    "    header=True,                             \n",
    "    mode=\"overwrite\"                         \n",
    ")"
   ]
  },
  {
   "cell_type": "code",
   "execution_count": 111,
   "id": "9e716bc6-cb70-465d-898b-669f5924d3de",
   "metadata": {},
   "outputs": [
    {
     "name": "stdout",
     "output_type": "stream",
     "text": [
      "root\n",
      " |-- employee_id: integer (nullable = true)\n",
      " |-- department_id: integer (nullable = true)\n",
      " |-- full_name: string (nullable = true)\n",
      " |-- age: integer (nullable = true)\n",
      " |-- gender: string (nullable = true)\n",
      " |-- salary: integer (nullable = true)\n",
      " |-- hire_date: date (nullable = true)\n",
      "\n"
     ]
    }
   ],
   "source": [
    "df_clean.printSchema()"
   ]
  },
  {
   "cell_type": "code",
   "execution_count": 113,
   "id": "af8abc07-a94e-4bcc-91d1-d0341ac1cd99",
   "metadata": {},
   "outputs": [
    {
     "data": {
      "text/plain": [
       "StructType([StructField('employee_id', IntegerType(), True), StructField('department_id', IntegerType(), True), StructField('full_name', StringType(), True), StructField('age', IntegerType(), True), StructField('gender', StringType(), True), StructField('salary', IntegerType(), True), StructField('hire_date', DateType(), True)])"
      ]
     },
     "execution_count": 113,
     "metadata": {},
     "output_type": "execute_result"
    }
   ],
   "source": [
    "  df_clean.schema"
   ]
  },
  {
   "cell_type": "code",
   "execution_count": null,
   "id": "391f73b6-55aa-417c-87f3-a8e597d01ef4",
   "metadata": {},
   "outputs": [],
   "source": []
  }
 ],
 "metadata": {
  "kernelspec": {
   "display_name": "Python [conda env:pyspark_env]",
   "language": "python",
   "name": "conda-env-pyspark_env-py"
  },
  "language_info": {
   "codemirror_mode": {
    "name": "ipython",
    "version": 3
   },
   "file_extension": ".py",
   "mimetype": "text/x-python",
   "name": "python",
   "nbconvert_exporter": "python",
   "pygments_lexer": "ipython3",
   "version": "3.9.21"
  }
 },
 "nbformat": 4,
 "nbformat_minor": 5
}
